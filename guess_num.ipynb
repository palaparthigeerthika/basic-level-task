{
  "nbformat": 4,
  "nbformat_minor": 0,
  "metadata": {
    "colab": {
      "provenance": [],
      "authorship_tag": "ABX9TyMK8VNFKdAqzRrZTd43ayR/",
      "include_colab_link": true
    },
    "kernelspec": {
      "name": "python3",
      "display_name": "Python 3"
    },
    "language_info": {
      "name": "python"
    }
  },
  "cells": [
    {
      "cell_type": "markdown",
      "metadata": {
        "id": "view-in-github",
        "colab_type": "text"
      },
      "source": [
        "<a href=\"https://colab.research.google.com/github/palaparthigeerthika/basic-level-task/blob/main/guess_num.ipynb\" target=\"_parent\"><img src=\"https://colab.research.google.com/assets/colab-badge.svg\" alt=\"Open In Colab\"/></a>"
      ]
    },
    {
      "cell_type": "code",
      "execution_count": 1,
      "metadata": {
        "colab": {
          "base_uri": "https://localhost:8080/"
        },
        "id": "AFP2k_VEg13p",
        "outputId": "beffca02-5000-492c-8857-48decc0d8ff7"
      },
      "outputs": [
        {
          "name": "stdout",
          "output_type": "stream",
          "text": [
            "May I ask you for your name?\n",
            "geerthika\n",
            "geerthika, we are going to play a game. I am thinking of a number between 1 and 200\n",
            "Go ahead. Guess!\n",
            "Guess: 30\n",
            "I don't think that 30 is a number. Sorry\n",
            "Guess: 50\n",
            "I don't think that 50 is a number. Sorry\n",
            "Guess: 70\n",
            "I don't think that 70 is a number. Sorry\n",
            "Guess: 101\n",
            "I don't think that 101 is a number. Sorry\n",
            "Guess: 150\n",
            "I don't think that 150 is a number. Sorry\n",
            "Guess: 130\n",
            "Nope. The number I was thinking of was 61\n",
            "Do you want to play again?\n",
            "113\n"
          ]
        }
      ],
      "source": [
        "import random #bring in the random number\n",
        "import time\n",
        "number=random.randint(1, 200) #pick the number between 1 and 200\n",
        "\n",
        "def intro():\n",
        "    print(\"May I ask you for your name?\")\n",
        "    name=input() #asks for the name\n",
        "    print(name + \", we are going to play a game. I am thinking of a number between 1 and 200\")\n",
        "    time.sleep(.5)\n",
        "    print(\"Go ahead. Guess!\")\n",
        "\n",
        "def pick():\n",
        "    guessesTaken = 0\n",
        "    while guessesTaken < 6: #if the number of guesses is less than 6\n",
        "        time.sleep(.25)\n",
        "        enter=input(\"Guess: \") #inserts the place to enter guess\n",
        "        try: #check if a number was entered\n",
        "            guess = int(enter) #stores the guess as an integer instead of a string\n",
        "\n",
        "            if guess<=200 and guess>=1: #if they are in range\n",
        "                guessesTaken=guessesTaken+1 #adds one guess each time the player is wrong\n",
        "                if guessesTaken<6:\n",
        "                    if guessnumber:\n",
        "                        print(\"The guess of the number that you have entered is too high\")\n",
        "                    if guess != number:\n",
        "                        time.sleep(.5)\n",
        "                        print(\"Try Again!\")\n",
        "                if guess==number:\n",
        "                    break #if the guess is right, then we are going to jump out of the while block\n",
        "            if guess>200 or guess<1: #if they aren't in the range\n",
        "                print(\"Silly Goose! That number isn't in the range!\")\n",
        "                time.sleep(.25)\n",
        "                print(\"Please enter a number between 1 and 200\")\n",
        "\n",
        "        except: #if a number wasn't entered\n",
        "            print(\"I don't think that \"+enter+\" is a number. Sorry\")\n",
        "\n",
        "    if guess == number:\n",
        "        guessesTaken = str(guessesTaken)\n",
        "        print('Good job, ' + name + '! You guessed my number in ' + guessesTaken + ' guesses!')\n",
        "\n",
        "    if guess != number:\n",
        "        print('Nope. The number I was thinking of was ' + str(number))\n",
        "\n",
        "playagain=\"yes\"\n",
        "while playagain==\"yes\" or playagain==\"y\" or playagain==\"Yes\":\n",
        "    intro()\n",
        "    pick()\n",
        "    print(\"Do you want to play again?\")\n",
        "    playagain=input()\n",
        ""
      ]
    }
  ]
}